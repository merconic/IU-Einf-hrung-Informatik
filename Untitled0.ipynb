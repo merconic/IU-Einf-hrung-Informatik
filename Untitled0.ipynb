{
  "nbformat": 4,
  "nbformat_minor": 0,
  "metadata": {
    "colab": {
      "provenance": [],
      "authorship_tag": "ABX9TyOFi9yOTtooOBCmrULQ4xI1",
      "include_colab_link": true
    },
    "kernelspec": {
      "name": "python3",
      "display_name": "Python 3"
    },
    "language_info": {
      "name": "python"
    }
  },
  "cells": [
    {
      "cell_type": "markdown",
      "metadata": {
        "id": "view-in-github",
        "colab_type": "text"
      },
      "source": [
        "<a href=\"https://colab.research.google.com/github/merconic/IU-Einf-hrung-Informatik/blob/main/Untitled0.ipynb\" target=\"_parent\"><img src=\"https://colab.research.google.com/assets/colab-badge.svg\" alt=\"Open In Colab\"/></a>"
      ]
    },
    {
      "cell_type": "code",
      "execution_count": 1,
      "metadata": {
        "id": "zX4ncbwgSN_1",
        "outputId": "5d0cca77-3274-4422-8522-2780ea3b48d2",
        "colab": {
          "base_uri": "https://localhost:8080/"
        }
      },
      "outputs": [
        {
          "output_type": "stream",
          "name": "stdout",
          "text": [
            "Sorted array: [11, 12, 22, 25, 34, 64, 90]\n"
          ]
        }
      ],
      "source": [
        "# prompt: generata a bubble sort algorithm\n",
        "\n",
        "def bubble_sort(list_):\n",
        "    n = len(list_)\n",
        "    for i in range(n-1):\n",
        "        for j in range(n-i-1):\n",
        "            if list_[j] > list_[j+1]:\n",
        "                list_[j], list_[j+1] = list_[j+1], list_[j]\n",
        "    return list_\n",
        "# Example usage\n",
        "my_list = [64, 34, 25, 12, 22, 11, 90]\n",
        "sorted_list = bubble_sort(my_list)\n",
        "print(\"Sorted array:\", sorted_list)\n"
      ]
    }
  ]
}